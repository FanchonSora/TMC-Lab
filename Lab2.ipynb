{
  "nbformat": 4,
  "nbformat_minor": 0,
  "metadata": {
    "colab": {
      "provenance": [],
      "authorship_tag": "ABX9TyPji8IAWlUywsb054hTswTE",
      "include_colab_link": true
    },
    "kernelspec": {
      "name": "python3",
      "display_name": "Python 3"
    },
    "language_info": {
      "name": "python"
    }
  },
  "cells": [
    {
      "cell_type": "markdown",
      "metadata": {
        "id": "view-in-github",
        "colab_type": "text"
      },
      "source": [
        "<a href=\"https://colab.research.google.com/github/FanchonSora/TMC-Lab/blob/main/Lab2.ipynb\" target=\"_parent\"><img src=\"https://colab.research.google.com/assets/colab-badge.svg\" alt=\"Open In Colab\"/></a>"
      ]
    },
    {
      "cell_type": "markdown",
      "source": [
        "# Part 1: Bisection Method\n",
        "Objective: Implement the bisection method to find the root of f(x).\n",
        "Task: Write a program to solve f(x)=x3−x−2=0 using the bisection method. Use [1, 2]\n",
        "as the initial interval."
      ],
      "metadata": {
        "id": "NIVnHDRp1p2-"
      }
    },
    {
      "cell_type": "code",
      "source": [
        "import math as m\n",
        "\n",
        "def f(x):\n",
        "    return x**3 - x - 2\n",
        "\n",
        "def bisection_method(f, a, b, tol=1e-6, max_iteration=100):\n",
        "    if f(a) * f(b) > 0:\n",
        "        raise ValueError(\"f(a) and f(b) must have opposite signs for the bisection method\")\n",
        "    t_data = []\n",
        "    c_old = None\n",
        "    for i in range(1, max_iteration + 1):\n",
        "        c = (a + b) / 2.0\n",
        "        fc = f(c)\n",
        "        if c_old is not None:\n",
        "            rel_error = abs((c - c_old) / c)\n",
        "        else:\n",
        "            rel_error = None\n",
        "        t_data.append((i, a, b, c, fc, rel_error))\n",
        "        if fc == 0 or abs(b - a) / 2 < tol or (rel_error is not None and rel_error < tol):\n",
        "            return c, t_data\n",
        "        if f(a) * fc < 0:\n",
        "            b = c\n",
        "        else:\n",
        "            a = c\n",
        "        c_old = c\n",
        "    # If without meeting tolerance\n",
        "    return (a + b) / 2.0, t_data"
      ],
      "metadata": {
        "id": "iQgeQuJE18Av"
      },
      "execution_count": 58,
      "outputs": []
    },
    {
      "cell_type": "code",
      "source": [
        "root, iteration_table = bisection_method(f, 1, 2, tol=1e-6, max_iteration=100)\n",
        "print(\"Bisection Method\")\n",
        "print(\"----------------------------------------------------------------------------\")\n",
        "print(\"Iteration |     a      |     b      |     c      |    f(c)    |    Error    \")\n",
        "print(\"----------+------------+------------+------------+------------+-------------\")\n",
        "for r in iteration_table:\n",
        "    (iter_num, a_val, b_val, c_val, fc_val, rel_err) = r\n",
        "    if rel_err is None:\n",
        "        rel_err_str = \"N/A\"\n",
        "    else:\n",
        "        rel_err_str = f\"{rel_err:.2e}\"\n",
        "    print(f\"  {iter_num:4d}    | {a_val:10.6f} | {b_val:10.6f} | {c_val:10.6f} | {fc_val:10.6f} | {rel_err_str:>11}\")"
      ],
      "metadata": {
        "colab": {
          "base_uri": "https://localhost:8080/"
        },
        "id": "yl7Xw0th-fc8",
        "outputId": "ab4e853d-7755-47a7-9e32-c01dd42ef53f"
      },
      "execution_count": 26,
      "outputs": [
        {
          "output_type": "stream",
          "name": "stdout",
          "text": [
            "Bisection Method\n",
            "----------------------------------------------------------------------------\n",
            "Iteration |     a      |     b      |     c      |    f(c)    |    Error    \n",
            "----------+------------+------------+------------+------------+-------------\n",
            "     1    |   1.000000 |   2.000000 |   1.500000 |   0.250000 |         N/A\n",
            "     2    |   1.000000 |   1.500000 |   1.250000 |  -0.437500 |    2.00e-01\n",
            "     3    |   1.250000 |   1.500000 |   1.375000 |  -0.109375 |    9.09e-02\n",
            "     4    |   1.375000 |   1.500000 |   1.437500 |   0.066406 |    4.35e-02\n",
            "     5    |   1.375000 |   1.437500 |   1.406250 |  -0.022461 |    2.22e-02\n",
            "     6    |   1.406250 |   1.437500 |   1.421875 |   0.021729 |    1.10e-02\n",
            "     7    |   1.406250 |   1.421875 |   1.414062 |  -0.000427 |    5.52e-03\n",
            "     8    |   1.414062 |   1.421875 |   1.417969 |   0.010635 |    2.75e-03\n",
            "     9    |   1.414062 |   1.417969 |   1.416016 |   0.005100 |    1.38e-03\n",
            "    10    |   1.414062 |   1.416016 |   1.415039 |   0.002336 |    6.90e-04\n",
            "    11    |   1.414062 |   1.415039 |   1.414551 |   0.000954 |    3.45e-04\n",
            "    12    |   1.414062 |   1.414551 |   1.414307 |   0.000263 |    1.73e-04\n",
            "    13    |   1.414062 |   1.414307 |   1.414185 |  -0.000082 |    8.63e-05\n",
            "    14    |   1.414185 |   1.414307 |   1.414246 |   0.000091 |    4.32e-05\n",
            "    15    |   1.414185 |   1.414246 |   1.414215 |   0.000004 |    2.16e-05\n",
            "    16    |   1.414185 |   1.414215 |   1.414200 |  -0.000039 |    1.08e-05\n",
            "    17    |   1.414200 |   1.414215 |   1.414207 |  -0.000017 |    5.39e-06\n",
            "    18    |   1.414207 |   1.414215 |   1.414211 |  -0.000006 |    2.70e-06\n",
            "    19    |   1.414211 |   1.414215 |   1.414213 |  -0.000001 |    1.35e-06\n",
            "    20    |   1.414213 |   1.414215 |   1.414214 |   0.000002 |    6.74e-07\n"
          ]
        }
      ]
    },
    {
      "cell_type": "code",
      "source": [
        "print(\"\\nFinal Approximate Root =\", root)\n",
        "print(\"f(root) =\", f(root))"
      ],
      "metadata": {
        "colab": {
          "base_uri": "https://localhost:8080/"
        },
        "id": "ot2yv3OA_B0U",
        "outputId": "32170ccc-2625-4c1f-9f7c-8cf6be68c65b"
      },
      "execution_count": 11,
      "outputs": [
        {
          "output_type": "stream",
          "name": "stdout",
          "text": [
            "\n",
            "Final Approximate Root = 1.5213804244995117\n",
            "f(root) = 4.265829404825894e-06\n"
          ]
        }
      ]
    },
    {
      "cell_type": "markdown",
      "source": [
        "#Part 2: Secant Method\n",
        "Objective: Implement the secant method for the equation f(x)=x2−2=0.\n",
        "Task: Solve the equation starting with initial guesses x0=1 and x1=2."
      ],
      "metadata": {
        "id": "JNxeL9JD1zD9"
      }
    },
    {
      "cell_type": "code",
      "source": [
        "def f(x):\n",
        "    return x**2 - 2\n",
        "def secant_method(f, x0, x1, tol=1e-6, max_iteration=100):\n",
        "    iteration_data = []\n",
        "    for i in range(1, max_iteration+1):\n",
        "        fx0 = f(x0)\n",
        "        fx1 = f(x1)\n",
        "        if fx1 - fx0 == 0:\n",
        "            raise ZeroDivisionError(\"Denominator zero in secant method\")\n",
        "        x2 = x1 - fx1 * ((x1 - x0)/(fx1 - fx0))\n",
        "        error_pct = abs((x2 - x1)/x2) * 100\n",
        "        iteration_data.append((i, x0, x1, x2, f(x2), error_pct))\n",
        "        if error_pct < (tol*100):\n",
        "            return x2, iteration_data\n",
        "        x0, x1 = x1, x2\n",
        "    return x1, iteration_data"
      ],
      "metadata": {
        "id": "kqyJwIvxBYOL"
      },
      "execution_count": 59,
      "outputs": []
    },
    {
      "cell_type": "code",
      "source": [
        "root_s, table_s = secant_method(f, 1, 2, tol=1e-6)\n",
        "print(\"Part 2: Secant Method\")\n",
        "print(\"Iteration |   x_old    |   x_new    |   x_next   |   f(x_next)   |   Error%\")\n",
        "print(\"----------+------------+------------+------------+---------------+-----------\")\n",
        "\n",
        "for r in table_s:\n",
        "    i, x_old, x_new, x_next, fx_next, err_p = r\n",
        "    print(f\"   {i:4d}   | {x_old:10.6f} | {x_new:10.6f} | {x_next:10.6f} | {fx_next:13.6e} | {err_p:9.4e}\")\n"
      ],
      "metadata": {
        "colab": {
          "base_uri": "https://localhost:8080/"
        },
        "id": "jUswsp7JBqNZ",
        "outputId": "af00be30-3820-4985-e2c7-a78a3b003196"
      },
      "execution_count": 40,
      "outputs": [
        {
          "output_type": "stream",
          "name": "stdout",
          "text": [
            "Part 2: Secant Method\n",
            "Iteration |   x_old    |   x_new    |   x_next   |   f(x_next)   |   Error%\n",
            "----------+------------+------------+------------+---------------+-----------\n",
            "      1   |   1.000000 |   2.000000 |   0.765035 | -4.367634e-02 | 1.6143e+02\n",
            "      2   |   2.000000 |   0.765035 |   0.742299 | -5.383261e-03 | 3.0628e+00\n",
            "      3   |   0.765035 |   0.742299 |   0.739103 | -3.035433e-05 | 4.3243e-01\n",
            "      4   |   0.742299 |   0.739103 |   0.739085 | -2.150675e-08 | 2.4522e-03\n",
            "      5   |   0.739103 |   0.739085 |   0.739085 | -8.604228e-14 | 1.7387e-06\n"
          ]
        }
      ]
    },
    {
      "cell_type": "code",
      "source": [
        "print(f\"\\nApproximate root after {len(table_s)} iterations: {root_s:.8f}\")\n",
        "print(f\"f(root) = {f(root_s):.4e}\\n\")"
      ],
      "metadata": {
        "colab": {
          "base_uri": "https://localhost:8080/"
        },
        "id": "_n0dMRa_CMQx",
        "outputId": "a9e51680-58be-4a32-f5a0-00ee106a7403"
      },
      "execution_count": 31,
      "outputs": [
        {
          "output_type": "stream",
          "name": "stdout",
          "text": [
            "\n",
            "Approximate root after 6 iterations: 1.41421356\n",
            "f(root) = 8.8818e-16\n",
            "\n"
          ]
        }
      ]
    },
    {
      "cell_type": "markdown",
      "source": [
        "#Part 3: Newton-Raphson Method\n",
        "Objective: Apply the Newton-Raphson method to find the root of f(x)=cos(x)−x=0.\n",
        "Task: Write a program to implement the method, starting from x0=0.5."
      ],
      "metadata": {
        "id": "8sfRqIEv11EL"
      }
    },
    {
      "cell_type": "code",
      "source": [
        "def f(x):\n",
        "    return m.cos(x) - x\n",
        "def df_newton(x):\n",
        "    return -m.sin(x) - 1\n",
        "def newton_raphson_method(f, df, x0, tol=1e-6, max_iteration=100):\n",
        "    iteration_data = []\n",
        "    x = x0\n",
        "    for i in range(1, max_iteration+1):\n",
        "        fx = f(x)\n",
        "        dfx = df(x)\n",
        "        if dfx == 0:\n",
        "            raise ZeroDivisionError(\"Derivative is zero\")\n",
        "        x_new = x - fx/dfx\n",
        "        error_pct = abs((x_new - x)/x_new) * 100\n",
        "        iteration_data.append((i, x, x_new, f(x_new), error_pct))\n",
        "        if error_pct < (tol*100):\n",
        "            return x_new, iteration_data\n",
        "        x = x_new\n",
        "    return x, iteration_data"
      ],
      "metadata": {
        "id": "hmEOlOq5CX4k"
      },
      "execution_count": 32,
      "outputs": []
    },
    {
      "cell_type": "code",
      "source": [
        "root_nt, table_nt = newton_raphson_method(f, df_newton, x0=0.5, tol=1e-6)\n",
        "print(\"Part 3: Newton-Raphson Method\")\n",
        "print(\"Iteration |   x_old    |   x_new    |   f(x_new)    |   Error%\")\n",
        "print(\"----------+------------+------------+---------------+-----------\")\n",
        "for r in table_nt:\n",
        "    i, x_old, x_new, fx_new, err_p = r\n",
        "    print(f\"   {i:4d}   | {x_old:10.6f} | {x_new:10.6f} | {fx_new:13.6e} | {err_p:9.4e}\")"
      ],
      "metadata": {
        "colab": {
          "base_uri": "https://localhost:8080/"
        },
        "id": "gz7Re_g1DAjb",
        "outputId": "936a3fc3-00a5-444c-842c-4edfccfb4c79"
      },
      "execution_count": 44,
      "outputs": [
        {
          "output_type": "stream",
          "name": "stdout",
          "text": [
            "Part 3: Newton-Raphson Method\n",
            "Iteration |   x_old    |   x_new    |   f(x_new)    |   Error%\n",
            "----------+------------+------------+---------------+-----------\n",
            "      1   |   0.500000 |   0.755222 | -2.710331e-02 | 3.3794e+01\n",
            "      2   |   0.755222 |   0.739142 | -9.461538e-05 | 2.1756e+00\n",
            "      3   |   0.739142 |   0.739085 | -1.180978e-09 | 7.6489e-03\n",
            "      4   |   0.739085 |   0.739085 |  0.000000e+00 | 9.5476e-08\n"
          ]
        }
      ]
    },
    {
      "cell_type": "code",
      "source": [
        "print(f\"\\nApproximate root after {len(table_nt)} iterations: {root_nt:.8f}\")\n",
        "print(f\"f(root) = {f(root_nt):.4e}\\n\")"
      ],
      "metadata": {
        "colab": {
          "base_uri": "https://localhost:8080/"
        },
        "id": "m5wo8H4KDj5s",
        "outputId": "d243f12d-a742-41cc-fc97-1917adae47a1"
      },
      "execution_count": 43,
      "outputs": [
        {
          "output_type": "stream",
          "name": "stdout",
          "text": [
            "\n",
            "Approximate root after 4 iterations: 0.73908513\n",
            "f(root) = 0.0000e+00\n",
            "\n"
          ]
        }
      ]
    },
    {
      "cell_type": "markdown",
      "source": [
        "#Part 4: Comparative Analysis\n",
        "Objective: Compare the performance (iterations, accuracy) of the three methods for\n",
        "the same problem f(x)=x3−x−2=0.\n",
        "Task:\n",
        "Solve the equation using all three methods.\n",
        "Tabulate the number of iterations and the accuracy.\n"
      ],
      "metadata": {
        "id": "aR6DqPOS13Co"
      }
    },
    {
      "cell_type": "code",
      "source": [
        "def f_compare(x):\n",
        "    return x**3 - x - 2\n",
        "def df_compare(x):\n",
        "    return 3*x**2 - 1\n",
        "# Bisection\n",
        "root_bi, table_bi = bisection_method(f_compare, 1, 2, tol=1e-6)\n",
        "\n",
        "# Secant\n",
        "root_sc, table_sc = secant_method(f_compare, 1, 2, tol=1e-6)\n",
        "\n",
        "# Newton-Raphson\n",
        "def newton_raphson_compare(x0, tol=1e-6):\n",
        "    x = x0\n",
        "    iteration_data = []\n",
        "    for i in range(1, 101):\n",
        "        fx = f_compare(x)\n",
        "        dfx = df_compare(x)\n",
        "        if dfx == 0:\n",
        "            raise ZeroDivisionError(\"Derivative = 0. No convergence\")\n",
        "        x_new = x - fx/dfx\n",
        "        error_pct = abs((x_new - x)/x_new) * 100\n",
        "        iteration_data.append((i, x, x_new, f_compare(x_new), error_pct))\n",
        "        if error_pct < tol*100:\n",
        "            return x_new, iteration_data\n",
        "        x = x_new\n",
        "    return x, iteration_data"
      ],
      "metadata": {
        "id": "07J-tVs_DsTi"
      },
      "execution_count": 45,
      "outputs": []
    },
    {
      "cell_type": "code",
      "source": [
        "root_nr, table_nr = newton_raphson_compare(1.5, tol=1e-6)\n",
        "bisection_iter = len(table_bi)\n",
        "secant_iter    = len(table_sc)\n",
        "nr_iter       = len(table_nr)\n",
        "f_bi = f_compare(root_bi)\n",
        "f_sc = f_compare(root_sc)\n",
        "f_nr = f_compare(root_nr)"
      ],
      "metadata": {
        "id": "Gwt7cleSEbjj"
      },
      "execution_count": 48,
      "outputs": []
    },
    {
      "cell_type": "code",
      "source": [
        "print(\"Part 4: Comparative Analysis\")\n",
        "print(\"----------------------------------------------------------------\")\n",
        "print(\"     Method      | Iteration  | Approxiate Root |   f(root)     \")\n",
        "print(\"-----------------+------------+-----------------+---------------\")\n",
        "print(f\"Bisection        | {bisection_iter:10d} | {root_bi:14.8f} | {f_bi:14.5e}\")\n",
        "print(f\"Secant           | {secant_iter:10d} | {root_sc:14.8f} | {f_sc:14.5e}\")\n",
        "print(f\"Newton-Raphson   | {nr_iter:10d} | {root_nr:14.8f} | {f_nr:14.5e}\")"
      ],
      "metadata": {
        "colab": {
          "base_uri": "https://localhost:8080/"
        },
        "id": "rkJv_HCjEfHb",
        "outputId": "4199610c-1ae5-4b3f-eca5-fb705ea872ff"
      },
      "execution_count": 49,
      "outputs": [
        {
          "output_type": "stream",
          "name": "stdout",
          "text": [
            "Part 4: Comparative Analysis\n",
            "----------------------------------------------------------------\n",
            "     Method      | Iteration  | Approxiate Root |   f(root)     \n",
            "-----------------+------------+-----------------+---------------\n",
            "Bisection        |         20 |     1.52138042 |    4.26583e-06\n",
            "Secant           |          7 |     1.52137971 |   -1.84297e-14\n",
            "Newton-Raphson   |          3 |     1.52137971 |    4.52971e-14\n"
          ]
        }
      ]
    },
    {
      "cell_type": "markdown",
      "source": [
        "#Part 5: Problem\n",
        "Solve the equation f(x)=ln(x)+x2−4=0 using any two methods of your choice.\n",
        "Compare the results and discuss the best method for this problem."
      ],
      "metadata": {
        "id": "rODwpODT15Eh"
      }
    },
    {
      "cell_type": "code",
      "source": [
        "def f_part(x):\n",
        "    return math.log(x) + x**2 - 4\n",
        "\n",
        "def df_part(x):\n",
        "    return 1/x + 2*x"
      ],
      "metadata": {
        "id": "RSvlv7oHFXFQ"
      },
      "execution_count": 50,
      "outputs": []
    },
    {
      "cell_type": "code",
      "source": [
        "root_bi, table_bi = bisection_method(f_part, 1, 2, tol=1e-6)\n",
        "\n",
        "print(\"Part 5: Solve ln(x) + x^2 - 4 = 0\")\n",
        "print(\"Using Bisection on [1,2]:\")\n",
        "print(f\"Root approx: {root_bi:.8f}\")\n",
        "print(f\"f(root)    : {f_part(root_bi):.4e}\\n\")"
      ],
      "metadata": {
        "colab": {
          "base_uri": "https://localhost:8080/"
        },
        "id": "GcIK6fYgFciu",
        "outputId": "0959b440-f179-47d8-c74b-fb16b36ac061"
      },
      "execution_count": 60,
      "outputs": [
        {
          "output_type": "stream",
          "name": "stdout",
          "text": [
            "Part 5: Solve ln(x) + x^2 - 4 = 0\n",
            "Using Bisection on [1,2]:\n",
            "Root approx: 1.84109783\n",
            "f(root)    : 3.2674e-06\n",
            "\n"
          ]
        }
      ]
    },
    {
      "cell_type": "code",
      "source": [
        "def newton_part(x0, tol=1e-6, max_iteration=100):\n",
        "    x = x0\n",
        "    iteration_data = []\n",
        "    for i in range(1, max_iteration+1):\n",
        "        fx = f_part(x)\n",
        "        dfx = df_part(x)\n",
        "        if dfx == 0:\n",
        "            raise ZeroDivisionError(\"Derivative is zero\")\n",
        "        x_new = x - fx/dfx\n",
        "        error_pct = abs((x_new - x)/x_new)*100\n",
        "        iteration_data.append((i, x, x_new, f_part(x_new), error_pct))\n",
        "        if error_pct < tol*100:\n",
        "            return x_new, iteration_data\n",
        "        x = x_new\n",
        "    return x, iteration_data\n",
        "\n",
        "root_nr, table_nr = newton_part(1.5, tol=1e-6)\n",
        "print(\"Using Newton-Raphson, x0=1.5:\")\n",
        "print(\"Iterations:\", len(table_nr))\n",
        "print(f\"Root approx: {root_nr:.8f}\")\n",
        "print(f\"f(root)    : {f_part(root_nr):.4e}\\n\")"
      ],
      "metadata": {
        "colab": {
          "base_uri": "https://localhost:8080/"
        },
        "id": "cqyTL8E4Fo5d",
        "outputId": "254e4fe8-e364-4c07-aed2-c43acbcde7b2"
      },
      "execution_count": 57,
      "outputs": [
        {
          "output_type": "stream",
          "name": "stdout",
          "text": [
            "Using Newton-Raphson, x0=1.5:\n",
            "Iterations: 4\n",
            "Root approx: 1.84109706\n",
            "f(root)    : -4.4409e-16\n",
            "\n"
          ]
        }
      ]
    }
  ]
}