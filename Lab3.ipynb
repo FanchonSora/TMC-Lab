{
  "nbformat": 4,
  "nbformat_minor": 0,
  "metadata": {
    "colab": {
      "provenance": [],
      "authorship_tag": "ABX9TyPuQREXwonXnib/FJSLJFnO",
      "include_colab_link": true
    },
    "kernelspec": {
      "name": "python3",
      "display_name": "Python 3"
    },
    "language_info": {
      "name": "python"
    }
  },
  "cells": [
    {
      "cell_type": "markdown",
      "metadata": {
        "id": "view-in-github",
        "colab_type": "text"
      },
      "source": [
        "<a href=\"https://colab.research.google.com/github/FanchonSora/TMC-Lab/blob/main/Lab3.ipynb\" target=\"_parent\"><img src=\"https://colab.research.google.com/assets/colab-badge.svg\" alt=\"Open In Colab\"/></a>"
      ]
    },
    {
      "cell_type": "markdown",
      "source": [
        "#Part 1: Gaussian Elimination\n",
        "Objective: Implement Gaussian Elimination to solve a system of linear equations.\n",
        "\n",
        "**Task: Write a program to solve the following system using Gaussian Elimination:**\n",
        "\n",
        "![Screenshot 2025-03-18 132218.png](data:image/png;base64,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)"
      ],
      "metadata": {
        "id": "CnH5uWJS7smd"
      }
    },
    {
      "cell_type": "code",
      "source": [
        "def gaussian_elimination(A):\n",
        "    n = len(A)\n",
        "    for i in range(n):\n",
        "        pivot = A[i][i]\n",
        "        if pivot == 0:\n",
        "            for r in range(i+1, n):\n",
        "                if A[r][i] != 0:\n",
        "                    A[i], A[r] = A[r], A[i]\n",
        "                    pivot = A[i][i]\n",
        "                    break\n",
        "        for j in range(i+1, n):\n",
        "            if A[j][i] != 0:\n",
        "                factor = A[j][i] / A[i][i]\n",
        "                for k in range(i, n+1):\n",
        "                    A[j][k] -= factor * A[i][k]\n",
        "    x = [0] * n\n",
        "    for i in range(n-1, -1, -1):\n",
        "        s = 0\n",
        "        for j in range(i+1, n):\n",
        "            s += A[i][j] * x[j]\n",
        "        x[i] = (A[i][n] - s) / A[i][i]\n",
        "    return x"
      ],
      "metadata": {
        "id": "YePVyXhS8Aoe"
      },
      "execution_count": 73,
      "outputs": []
    },
    {
      "cell_type": "code",
      "source": [
        "if __name__ == \"__main__\":\n",
        "    A = [\n",
        "        [  3,   1,  -2,   1 ],\n",
        "        [  2,  -2,   4,  -2 ],\n",
        "        [ -1,  12,  -1,   0 ]\n",
        "    ]\n",
        "    solution = gaussian_elimination(A)\n",
        "    print(\"Solution:\")\n",
        "    print(f\"x = {solution[0]}\")\n",
        "    print(f\"y = {solution[1]}\")\n",
        "    print(f\"z = {solution[2]}\")"
      ],
      "metadata": {
        "colab": {
          "base_uri": "https://localhost:8080/"
        },
        "id": "2ehn_55e-IHz",
        "outputId": "587035cf-37b3-4299-9703-97c28e0b44f8"
      },
      "execution_count": 75,
      "outputs": [
        {
          "output_type": "stream",
          "name": "stdout",
          "text": [
            "Solution:\n",
            "x = 0.0\n",
            "y = -0.043478260869565244\n",
            "z = -0.5217391304347826\n"
          ]
        }
      ]
    },
    {
      "cell_type": "markdown",
      "source": [
        "#Part 2: Iterative Methods (Jacobi and Gauss-Seidel)\n",
        "Objective: Implement Jacobi and Gauss-Seidel methods to solve linear systems.\n",
        "\n",
        "**Task: Solve the system of linear equations using both Jacobi and Gauss-Seidel methods**\n"
      ],
      "metadata": {
        "id": "R8mAFGJ68CD9"
      }
    },
    {
      "cell_type": "code",
      "source": [
        "import numpy as np\n",
        "\n",
        "def gauss_seidel(A, b, tol = 1e-6, max_iterations = 1000):\n",
        "    n = len(b)\n",
        "    x = np.zeros_like(b, dtype = np.float64)\n",
        "    for iter in range(max_iterations):\n",
        "        x_new = np.copy(x)\n",
        "        for i in range(n):\n",
        "            s1 = np.dot(A[i, :i], x_new[:i])\n",
        "            s2 = np.dot(A[i, i + 1:], x[i + 1:])\n",
        "            x_new[i] = (b[i] - s1 - s2) / A[i, i]\n",
        "        if np.linalg.norm(x_new - x, ord = np.inf) < tol:\n",
        "            return x_new, iter + 1\n",
        "        x = x_new\n",
        "    print(\"Maximum iterations reached, no convergence\")\n",
        "    return x, max_iterations"
      ],
      "metadata": {
        "collapsed": true,
        "id": "TPVobk9v8IbA"
      },
      "execution_count": 61,
      "outputs": []
    },
    {
      "cell_type": "code",
      "source": [
        "def jacobi(A, b, tol = 1e-6, max_iterations = 1000):\n",
        "    n = len(b)\n",
        "    x = np.zeros_like(b, dtype = np.float64)\n",
        "    D_inv = np.diag(1 / np.diag(A))\n",
        "    R = A - np.diag(np.diag(A))\n",
        "    for iter in range(max_iterations):\n",
        "        x_new = np.dot(D_inv, (b - np.dot(R, x)))\n",
        "        if np.linalg.norm(x_new - x, ord = np.inf) < tol:\n",
        "            return x_new, iter + 1\n",
        "        x = x_new\n",
        "    print(\"Maximum iterations reached, no convergence\")\n",
        "    return x, max_iterations"
      ],
      "metadata": {
        "id": "UHh7fCZmA5vy"
      },
      "execution_count": 62,
      "outputs": []
    },
    {
      "cell_type": "markdown",
      "source": [
        "#Part 3: Comparative Analysis\n",
        "Objective: Compare the efficiency and accuracy of the methods: Gaussian Elimination, Jacobi, and Gauss-Seidel\n",
        "\n",
        "**Task: Solve the same system using all three methods. Measure the number of iterations and computational time. Compare results and discuss the advantages and disadvantages of each method.**\n"
      ],
      "metadata": {
        "id": "MvWqsK1i8I8v"
      }
    },
    {
      "cell_type": "code",
      "source": [
        "import pandas as pd\n",
        "def compare(A, b):\n",
        "    aug = np.hstack((A, b.reshape(-1, 1)))\n",
        "    r = []\n",
        "    # Gaussian Elimination\n",
        "    start = time.perf_counter()\n",
        "    x_ge = gaussian_elimination(aug.copy())\n",
        "    time_ge = time.perf_counter() - start\n",
        "    r.append({\n",
        "        \"Method\": \"Gaussian Elimination\",\n",
        "        \"Solution\": np.around(x_ge, 6),\n",
        "        \"Iterations\": \"N/A\",\n",
        "        \"Time (s)\": time_ge\n",
        "    })\n",
        "    # Gauss-Seidel\n",
        "    start = time.perf_counter()\n",
        "    x_gs, iter_gs = gauss_seidel(A, b)\n",
        "    time_gs = time.perf_counter() - start\n",
        "    r.append({\n",
        "        \"Method\": \"Gauss-Seidel\",\n",
        "        \"Solution\": np.around(x_gs, 6),\n",
        "        \"Iterations\": iter_gs,\n",
        "        \"Time (s)\": time_gs\n",
        "    })\n",
        "    # Jacobi\n",
        "    start = time.perf_counter()\n",
        "    x_j, iter_j = jacobi(A, b)\n",
        "    time_j = time.perf_counter() - start\n",
        "    r.append({\n",
        "        \"Method\": \"Jacobi\",\n",
        "        \"Solution\": np.around(x_j, 6),\n",
        "        \"Iterations\": iter_j,\n",
        "        \"Time (s)\": time_j\n",
        "    })\n",
        "    df = pd.DataFrame(r)\n",
        "    return df"
      ],
      "metadata": {
        "id": "yCSt3NzuP-OP"
      },
      "execution_count": 85,
      "outputs": []
    },
    {
      "cell_type": "code",
      "source": [
        "A = np.array([[4, 1, 2],\n",
        "                  [1, 3, 1],\n",
        "                  [2, 1, 5]], dtype=np.float64)\n",
        "b = np.array([4, 5, 6], dtype=np.float64)\n",
        "compare(A, b)"
      ],
      "metadata": {
        "colab": {
          "base_uri": "https://localhost:8080/",
          "height": 143
        },
        "id": "XJc7oQitSjib",
        "outputId": "0e067324-a4aa-46f1-9b35-2cbdfd01a1c6"
      },
      "execution_count": 83,
      "outputs": [
        {
          "output_type": "execute_result",
          "data": {
            "text/plain": [
              "                 Method                        Solution Iterations  Time (s)\n",
              "0  Gaussian Elimination  [0.255814, 1.302326, 0.837209]        N/A  0.000075\n",
              "1          Gauss-Seidel  [0.255814, 1.302325, 0.837209]         10  0.001620\n",
              "2                Jacobi   [0.255814, 1.302326, 0.83721]         37  0.000586"
            ],
            "text/html": [
              "\n",
              "  <div id=\"df-0f213fe0-f149-4faf-b27c-fe203bdaa775\" class=\"colab-df-container\">\n",
              "    <div>\n",
              "<style scoped>\n",
              "    .dataframe tbody tr th:only-of-type {\n",
              "        vertical-align: middle;\n",
              "    }\n",
              "\n",
              "    .dataframe tbody tr th {\n",
              "        vertical-align: top;\n",
              "    }\n",
              "\n",
              "    .dataframe thead th {\n",
              "        text-align: right;\n",
              "    }\n",
              "</style>\n",
              "<table border=\"1\" class=\"dataframe\">\n",
              "  <thead>\n",
              "    <tr style=\"text-align: right;\">\n",
              "      <th></th>\n",
              "      <th>Method</th>\n",
              "      <th>Solution</th>\n",
              "      <th>Iterations</th>\n",
              "      <th>Time (s)</th>\n",
              "    </tr>\n",
              "  </thead>\n",
              "  <tbody>\n",
              "    <tr>\n",
              "      <th>0</th>\n",
              "      <td>Gaussian Elimination</td>\n",
              "      <td>[0.255814, 1.302326, 0.837209]</td>\n",
              "      <td>N/A</td>\n",
              "      <td>0.000075</td>\n",
              "    </tr>\n",
              "    <tr>\n",
              "      <th>1</th>\n",
              "      <td>Gauss-Seidel</td>\n",
              "      <td>[0.255814, 1.302325, 0.837209]</td>\n",
              "      <td>10</td>\n",
              "      <td>0.001620</td>\n",
              "    </tr>\n",
              "    <tr>\n",
              "      <th>2</th>\n",
              "      <td>Jacobi</td>\n",
              "      <td>[0.255814, 1.302326, 0.83721]</td>\n",
              "      <td>37</td>\n",
              "      <td>0.000586</td>\n",
              "    </tr>\n",
              "  </tbody>\n",
              "</table>\n",
              "</div>\n",
              "    <div class=\"colab-df-buttons\">\n",
              "\n",
              "  <div class=\"colab-df-container\">\n",
              "    <button class=\"colab-df-convert\" onclick=\"convertToInteractive('df-0f213fe0-f149-4faf-b27c-fe203bdaa775')\"\n",
              "            title=\"Convert this dataframe to an interactive table.\"\n",
              "            style=\"display:none;\">\n",
              "\n",
              "  <svg xmlns=\"http://www.w3.org/2000/svg\" height=\"24px\" viewBox=\"0 -960 960 960\">\n",
              "    <path d=\"M120-120v-720h720v720H120Zm60-500h600v-160H180v160Zm220 220h160v-160H400v160Zm0 220h160v-160H400v160ZM180-400h160v-160H180v160Zm440 0h160v-160H620v160ZM180-180h160v-160H180v160Zm440 0h160v-160H620v160Z\"/>\n",
              "  </svg>\n",
              "    </button>\n",
              "\n",
              "  <style>\n",
              "    .colab-df-container {\n",
              "      display:flex;\n",
              "      gap: 12px;\n",
              "    }\n",
              "\n",
              "    .colab-df-convert {\n",
              "      background-color: #E8F0FE;\n",
              "      border: none;\n",
              "      border-radius: 50%;\n",
              "      cursor: pointer;\n",
              "      display: none;\n",
              "      fill: #1967D2;\n",
              "      height: 32px;\n",
              "      padding: 0 0 0 0;\n",
              "      width: 32px;\n",
              "    }\n",
              "\n",
              "    .colab-df-convert:hover {\n",
              "      background-color: #E2EBFA;\n",
              "      box-shadow: 0px 1px 2px rgba(60, 64, 67, 0.3), 0px 1px 3px 1px rgba(60, 64, 67, 0.15);\n",
              "      fill: #174EA6;\n",
              "    }\n",
              "\n",
              "    .colab-df-buttons div {\n",
              "      margin-bottom: 4px;\n",
              "    }\n",
              "\n",
              "    [theme=dark] .colab-df-convert {\n",
              "      background-color: #3B4455;\n",
              "      fill: #D2E3FC;\n",
              "    }\n",
              "\n",
              "    [theme=dark] .colab-df-convert:hover {\n",
              "      background-color: #434B5C;\n",
              "      box-shadow: 0px 1px 3px 1px rgba(0, 0, 0, 0.15);\n",
              "      filter: drop-shadow(0px 1px 2px rgba(0, 0, 0, 0.3));\n",
              "      fill: #FFFFFF;\n",
              "    }\n",
              "  </style>\n",
              "\n",
              "    <script>\n",
              "      const buttonEl =\n",
              "        document.querySelector('#df-0f213fe0-f149-4faf-b27c-fe203bdaa775 button.colab-df-convert');\n",
              "      buttonEl.style.display =\n",
              "        google.colab.kernel.accessAllowed ? 'block' : 'none';\n",
              "\n",
              "      async function convertToInteractive(key) {\n",
              "        const element = document.querySelector('#df-0f213fe0-f149-4faf-b27c-fe203bdaa775');\n",
              "        const dataTable =\n",
              "          await google.colab.kernel.invokeFunction('convertToInteractive',\n",
              "                                                    [key], {});\n",
              "        if (!dataTable) return;\n",
              "\n",
              "        const docLinkHtml = 'Like what you see? Visit the ' +\n",
              "          '<a target=\"_blank\" href=https://colab.research.google.com/notebooks/data_table.ipynb>data table notebook</a>'\n",
              "          + ' to learn more about interactive tables.';\n",
              "        element.innerHTML = '';\n",
              "        dataTable['output_type'] = 'display_data';\n",
              "        await google.colab.output.renderOutput(dataTable, element);\n",
              "        const docLink = document.createElement('div');\n",
              "        docLink.innerHTML = docLinkHtml;\n",
              "        element.appendChild(docLink);\n",
              "      }\n",
              "    </script>\n",
              "  </div>\n",
              "\n",
              "\n",
              "<div id=\"df-84f7e9b1-b58a-4ae6-842e-7c3ed8d9b1ee\">\n",
              "  <button class=\"colab-df-quickchart\" onclick=\"quickchart('df-84f7e9b1-b58a-4ae6-842e-7c3ed8d9b1ee')\"\n",
              "            title=\"Suggest charts\"\n",
              "            style=\"display:none;\">\n",
              "\n",
              "<svg xmlns=\"http://www.w3.org/2000/svg\" height=\"24px\"viewBox=\"0 0 24 24\"\n",
              "     width=\"24px\">\n",
              "    <g>\n",
              "        <path d=\"M19 3H5c-1.1 0-2 .9-2 2v14c0 1.1.9 2 2 2h14c1.1 0 2-.9 2-2V5c0-1.1-.9-2-2-2zM9 17H7v-7h2v7zm4 0h-2V7h2v10zm4 0h-2v-4h2v4z\"/>\n",
              "    </g>\n",
              "</svg>\n",
              "  </button>\n",
              "\n",
              "<style>\n",
              "  .colab-df-quickchart {\n",
              "      --bg-color: #E8F0FE;\n",
              "      --fill-color: #1967D2;\n",
              "      --hover-bg-color: #E2EBFA;\n",
              "      --hover-fill-color: #174EA6;\n",
              "      --disabled-fill-color: #AAA;\n",
              "      --disabled-bg-color: #DDD;\n",
              "  }\n",
              "\n",
              "  [theme=dark] .colab-df-quickchart {\n",
              "      --bg-color: #3B4455;\n",
              "      --fill-color: #D2E3FC;\n",
              "      --hover-bg-color: #434B5C;\n",
              "      --hover-fill-color: #FFFFFF;\n",
              "      --disabled-bg-color: #3B4455;\n",
              "      --disabled-fill-color: #666;\n",
              "  }\n",
              "\n",
              "  .colab-df-quickchart {\n",
              "    background-color: var(--bg-color);\n",
              "    border: none;\n",
              "    border-radius: 50%;\n",
              "    cursor: pointer;\n",
              "    display: none;\n",
              "    fill: var(--fill-color);\n",
              "    height: 32px;\n",
              "    padding: 0;\n",
              "    width: 32px;\n",
              "  }\n",
              "\n",
              "  .colab-df-quickchart:hover {\n",
              "    background-color: var(--hover-bg-color);\n",
              "    box-shadow: 0 1px 2px rgba(60, 64, 67, 0.3), 0 1px 3px 1px rgba(60, 64, 67, 0.15);\n",
              "    fill: var(--button-hover-fill-color);\n",
              "  }\n",
              "\n",
              "  .colab-df-quickchart-complete:disabled,\n",
              "  .colab-df-quickchart-complete:disabled:hover {\n",
              "    background-color: var(--disabled-bg-color);\n",
              "    fill: var(--disabled-fill-color);\n",
              "    box-shadow: none;\n",
              "  }\n",
              "\n",
              "  .colab-df-spinner {\n",
              "    border: 2px solid var(--fill-color);\n",
              "    border-color: transparent;\n",
              "    border-bottom-color: var(--fill-color);\n",
              "    animation:\n",
              "      spin 1s steps(1) infinite;\n",
              "  }\n",
              "\n",
              "  @keyframes spin {\n",
              "    0% {\n",
              "      border-color: transparent;\n",
              "      border-bottom-color: var(--fill-color);\n",
              "      border-left-color: var(--fill-color);\n",
              "    }\n",
              "    20% {\n",
              "      border-color: transparent;\n",
              "      border-left-color: var(--fill-color);\n",
              "      border-top-color: var(--fill-color);\n",
              "    }\n",
              "    30% {\n",
              "      border-color: transparent;\n",
              "      border-left-color: var(--fill-color);\n",
              "      border-top-color: var(--fill-color);\n",
              "      border-right-color: var(--fill-color);\n",
              "    }\n",
              "    40% {\n",
              "      border-color: transparent;\n",
              "      border-right-color: var(--fill-color);\n",
              "      border-top-color: var(--fill-color);\n",
              "    }\n",
              "    60% {\n",
              "      border-color: transparent;\n",
              "      border-right-color: var(--fill-color);\n",
              "    }\n",
              "    80% {\n",
              "      border-color: transparent;\n",
              "      border-right-color: var(--fill-color);\n",
              "      border-bottom-color: var(--fill-color);\n",
              "    }\n",
              "    90% {\n",
              "      border-color: transparent;\n",
              "      border-bottom-color: var(--fill-color);\n",
              "    }\n",
              "  }\n",
              "</style>\n",
              "\n",
              "  <script>\n",
              "    async function quickchart(key) {\n",
              "      const quickchartButtonEl =\n",
              "        document.querySelector('#' + key + ' button');\n",
              "      quickchartButtonEl.disabled = true;  // To prevent multiple clicks.\n",
              "      quickchartButtonEl.classList.add('colab-df-spinner');\n",
              "      try {\n",
              "        const charts = await google.colab.kernel.invokeFunction(\n",
              "            'suggestCharts', [key], {});\n",
              "      } catch (error) {\n",
              "        console.error('Error during call to suggestCharts:', error);\n",
              "      }\n",
              "      quickchartButtonEl.classList.remove('colab-df-spinner');\n",
              "      quickchartButtonEl.classList.add('colab-df-quickchart-complete');\n",
              "    }\n",
              "    (() => {\n",
              "      let quickchartButtonEl =\n",
              "        document.querySelector('#df-84f7e9b1-b58a-4ae6-842e-7c3ed8d9b1ee button');\n",
              "      quickchartButtonEl.style.display =\n",
              "        google.colab.kernel.accessAllowed ? 'block' : 'none';\n",
              "    })();\n",
              "  </script>\n",
              "</div>\n",
              "\n",
              "    </div>\n",
              "  </div>\n"
            ],
            "application/vnd.google.colaboratory.intrinsic+json": {
              "type": "dataframe",
              "summary": "{\n  \"name\": \"compare(A, b)\",\n  \"rows\": 3,\n  \"fields\": [\n    {\n      \"column\": \"Method\",\n      \"properties\": {\n        \"dtype\": \"string\",\n        \"num_unique_values\": 3,\n        \"samples\": [\n          \"Gaussian Elimination\",\n          \"Gauss-Seidel\",\n          \"Jacobi\"\n        ],\n        \"semantic_type\": \"\",\n        \"description\": \"\"\n      }\n    },\n    {\n      \"column\": \"Solution\",\n      \"properties\": {\n        \"dtype\": \"object\",\n        \"semantic_type\": \"\",\n        \"description\": \"\"\n      }\n    },\n    {\n      \"column\": \"Iterations\",\n      \"properties\": {\n        \"dtype\": \"string\",\n        \"num_unique_values\": 3,\n        \"samples\": [\n          \"N/A\",\n          10,\n          37\n        ],\n        \"semantic_type\": \"\",\n        \"description\": \"\"\n      }\n    },\n    {\n      \"column\": \"Time (s)\",\n      \"properties\": {\n        \"dtype\": \"number\",\n        \"std\": 0.0007870191393129364,\n        \"min\": 7.514399931096705e-05,\n        \"max\": 0.0016198639996218844,\n        \"num_unique_values\": 3,\n        \"samples\": [\n          7.514399931096705e-05,\n          0.0016198639996218844,\n          0.0005856310008311993\n        ],\n        \"semantic_type\": \"\",\n        \"description\": \"\"\n      }\n    }\n  ]\n}"
            }
          },
          "metadata": {},
          "execution_count": 83
        }
      ]
    },
    {
      "cell_type": "markdown",
      "source": [
        "#Part 4: Exercise\n",
        "**Solve the system Ax=b where**\n",
        "\n",
        "![Screenshot 2025-03-18 131840.png](data:image/png;base64,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)\n",
        "\n",
        "**using the Jacobi and Gauss-Seidel methods. Compare the number of iterations needed to achieve a solution with an accuracy of 10^-6**\n"
      ],
      "metadata": {
        "id": "hnAaPtIq8OXK"
      }
    },
    {
      "cell_type": "code",
      "source": [
        "def solve(A, b, tol = 1e-6, max_iterations = 1000):\n",
        "    # GS\n",
        "    sol_gs, it_gs = gauss_seidel(A, b, tol, max_iterations)\n",
        "    # J\n",
        "    sol_jac, it_jac = jacobi(A, b, tol, max_iterations)\n",
        "    print(\"Compare Gauss-Seidel and Jacobi\")\n",
        "    print(\"{:<15} | {:<15} | {:<30}\".format(\"Method\", \"Iterations\", \"Solution\"))\n",
        "    print(\"-\" * 70)\n",
        "    print(\"{:<15} | {:<15} | {}\".format(\"Gauss-Seidel\", it_gs, sol_gs))\n",
        "    print(\"{:<15} | {:<15} | {}\".format(\"Jacobi\", it_jac, sol_jac))"
      ],
      "metadata": {
        "id": "XtP_ztVq8r7x"
      },
      "execution_count": 86,
      "outputs": []
    },
    {
      "cell_type": "code",
      "source": [
        "if __name__ == \"__main__\":\n",
        "    A = np.array([\n",
        "        [ 5., -2.,  3.],\n",
        "        [ 2.,  5., -1.],\n",
        "        [ 1.,  3.,  5.]\n",
        "    ])\n",
        "    b = np.array([10., 4., 8.])\n",
        "    solve(A, b, tol = 1e-6, max_iterations = 1000)"
      ],
      "metadata": {
        "colab": {
          "base_uri": "https://localhost:8080/"
        },
        "id": "ooV7UOf-JZpX",
        "outputId": "4a86142e-88b1-4ca7-ace9-4088aff26245"
      },
      "execution_count": 87,
      "outputs": [
        {
          "output_type": "stream",
          "name": "stdout",
          "text": [
            "Compare Gauss-Seidel and Jacobi\n",
            "Method          | Iterations      | Solution                      \n",
            "----------------------------------------------------------------------\n",
            "Gauss-Seidel    | 12              | [1.52727256 0.40000008 1.05454544]\n",
            "Jacobi          | 26              | [1.5272723  0.4        1.05454585]\n"
          ]
        }
      ]
    }
  ]
}